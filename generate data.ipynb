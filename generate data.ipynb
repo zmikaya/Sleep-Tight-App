{
 "metadata": {
  "name": ""
 },
 "nbformat": 3,
 "nbformat_minor": 0,
 "worksheets": [
  {
   "cells": [
    {
     "cell_type": "code",
     "collapsed": false,
     "input": [
      "import json\n",
      "import datetime\n",
      "from random import randint\n",
      "import collections"
     ],
     "language": "python",
     "metadata": {},
     "outputs": [],
     "prompt_number": 1
    },
    {
     "cell_type": "code",
     "collapsed": false,
     "input": [
      "def getDates(start, base_date, num_days):\n",
      "    '''\n",
      "    The function returns a list of dates in seconds.\n",
      "    \n",
      "    Keywords:\n",
      "        start -- the first date to begin at\n",
      "        base_date -- the date to subtract from the dates of interest\n",
      "        num_days -- the number of days to increment and return date values for\n",
      "    '''\n",
      "    dates = []\n",
      "    for day in range(num_days):\n",
      "        if dates:\n",
      "            start += datetime.timedelta(days=1)\n",
      "        t = (start - base_date).total_seconds()\n",
      "        dates.append(int(t))\n",
      "    return dates"
     ],
     "language": "python",
     "metadata": {},
     "outputs": [],
     "prompt_number": 2
    },
    {
     "cell_type": "code",
     "collapsed": false,
     "input": [
      "start = datetime.datetime(2015, 12, 1)\n",
      "base_date = datetime.datetime(1970,1,1)\n",
      "dates = getDates(start, base_date, 56)"
     ],
     "language": "python",
     "metadata": {},
     "outputs": [],
     "prompt_number": 9
    },
    {
     "cell_type": "code",
     "collapsed": false,
     "input": [
      "def generateData(minHours, maxHours, num):\n",
      "    hours = []\n",
      "    for i in range(num):\n",
      "        rand_hours = randint(minHours, maxHours)\n",
      "        hours.append(rand_hours)\n",
      "    return hours"
     ],
     "language": "python",
     "metadata": {},
     "outputs": [],
     "prompt_number": 10
    },
    {
     "cell_type": "code",
     "collapsed": false,
     "input": [
      "hours = generateData(0, 10, 56)"
     ],
     "language": "python",
     "metadata": {},
     "outputs": [],
     "prompt_number": 11
    },
    {
     "cell_type": "code",
     "collapsed": false,
     "input": [
      "data = {}\n",
      "for i in range(len(dates)):\n",
      "    data[str(dates[i])] = hours[i]"
     ],
     "language": "python",
     "metadata": {},
     "outputs": [],
     "prompt_number": 12
    },
    {
     "cell_type": "code",
     "collapsed": false,
     "input": [
      "od = collections.OrderedDict(sorted(data.items()))\n",
      "json_data = json.dumps(od)"
     ],
     "language": "python",
     "metadata": {},
     "outputs": [],
     "prompt_number": 13
    },
    {
     "cell_type": "code",
     "collapsed": false,
     "input": [
      "json_data"
     ],
     "language": "python",
     "metadata": {},
     "outputs": [
      {
       "metadata": {},
       "output_type": "pyout",
       "prompt_number": 14,
       "text": [
        "'{\"1448928000\": 10, \"1449014400\": 2, \"1449100800\": 8, \"1449187200\": 4, \"1449273600\": 10, \"1449360000\": 0, \"1449446400\": 2, \"1449532800\": 1, \"1449619200\": 6, \"1449705600\": 9, \"1449792000\": 3, \"1449878400\": 4, \"1449964800\": 8, \"1450051200\": 7, \"1450137600\": 3, \"1450224000\": 9, \"1450310400\": 3, \"1450396800\": 5, \"1450483200\": 5, \"1450569600\": 9, \"1450656000\": 5, \"1450742400\": 7, \"1450828800\": 0, \"1450915200\": 8, \"1451001600\": 3, \"1451088000\": 1, \"1451174400\": 6, \"1451260800\": 9, \"1451347200\": 0, \"1451433600\": 4, \"1451520000\": 4, \"1451606400\": 9, \"1451692800\": 3, \"1451779200\": 5, \"1451865600\": 6, \"1451952000\": 8, \"1452038400\": 1, \"1452124800\": 10, \"1452211200\": 0, \"1452297600\": 4, \"1452384000\": 2, \"1452470400\": 0, \"1452556800\": 2, \"1452643200\": 7, \"1452729600\": 8, \"1452816000\": 3, \"1452902400\": 1, \"1452988800\": 5, \"1453075200\": 0, \"1453161600\": 1, \"1453248000\": 7, \"1453334400\": 7, \"1453420800\": 4, \"1453507200\": 3, \"1453593600\": 10, \"1453680000\": 3}'"
       ]
      }
     ],
     "prompt_number": 14
    },
    {
     "cell_type": "code",
     "collapsed": false,
     "input": [],
     "language": "python",
     "metadata": {},
     "outputs": []
    }
   ],
   "metadata": {}
  }
 ]
}