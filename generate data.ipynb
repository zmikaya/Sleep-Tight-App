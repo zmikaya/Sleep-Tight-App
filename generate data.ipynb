{
 "metadata": {
  "name": ""
 },
 "nbformat": 3,
 "nbformat_minor": 0,
 "worksheets": [
  {
   "cells": [
    {
     "cell_type": "code",
     "collapsed": false,
     "input": [
      "import json\n",
      "import datetime\n",
      "from random import randint\n",
      "import collections"
     ],
     "language": "python",
     "metadata": {},
     "outputs": [],
     "prompt_number": 51
    },
    {
     "cell_type": "code",
     "collapsed": false,
     "input": [
      "def getDates(start, base_date, num_days):\n",
      "    '''\n",
      "    The function returns a list of dates in seconds.\n",
      "    \n",
      "    Keywords:\n",
      "        start -- the first date to begin at\n",
      "        base_date -- the date to subtract from the dates of interest\n",
      "        num_days -- the number of days to increment and return date values for\n",
      "    '''\n",
      "    dates = []\n",
      "    for day in range(num_days):\n",
      "        if dates:\n",
      "            start += datetime.timedelta(days=1)\n",
      "        t = (start - base_date).total_seconds()\n",
      "        dates.append(int(t))\n",
      "    return dates"
     ],
     "language": "python",
     "metadata": {},
     "outputs": [],
     "prompt_number": 30
    },
    {
     "cell_type": "code",
     "collapsed": false,
     "input": [
      "start = datetime.datetime(2015, 11, 24)\n",
      "base_date = datetime.datetime(1970,1,1)\n",
      "dates = getDates(start, base_date, 56)"
     ],
     "language": "python",
     "metadata": {},
     "outputs": [],
     "prompt_number": 31
    },
    {
     "cell_type": "code",
     "collapsed": false,
     "input": [
      "def generateData(minHours, maxHours, num):\n",
      "    hours = []\n",
      "    for i in range(num):\n",
      "        rand_hours = randint(minHours, maxHours)\n",
      "        hours.append(rand_hours)\n",
      "    return hours"
     ],
     "language": "python",
     "metadata": {},
     "outputs": [],
     "prompt_number": 34
    },
    {
     "cell_type": "code",
     "collapsed": false,
     "input": [
      "hours = generateData(0, 10, 56)"
     ],
     "language": "python",
     "metadata": {},
     "outputs": [],
     "prompt_number": 35
    },
    {
     "cell_type": "code",
     "collapsed": false,
     "input": [
      "data = {}\n",
      "for i in range(len(dates)):\n",
      "    data[str(dates[i])] = hours[i]"
     ],
     "language": "python",
     "metadata": {},
     "outputs": [],
     "prompt_number": 42
    },
    {
     "cell_type": "code",
     "collapsed": false,
     "input": [
      "od = collections.OrderedDict(sorted(data.items()))\n",
      "json_data = json.dumps(od)"
     ],
     "language": "python",
     "metadata": {},
     "outputs": [],
     "prompt_number": 52
    },
    {
     "cell_type": "code",
     "collapsed": false,
     "input": [
      "json_data"
     ],
     "language": "python",
     "metadata": {},
     "outputs": [
      {
       "metadata": {},
       "output_type": "pyout",
       "prompt_number": 53,
       "text": [
        "'{\"1448323200\": 3, \"1448409600\": 0, \"1448496000\": 6, \"1448582400\": 6, \"1448668800\": 2, \"1448755200\": 10, \"1448841600\": 0, \"1448928000\": 8, \"1449014400\": 6, \"1449100800\": 2, \"1449187200\": 10, \"1449273600\": 3, \"1449360000\": 6, \"1449446400\": 6, \"1449532800\": 9, \"1449619200\": 0, \"1449705600\": 10, \"1449792000\": 1, \"1449878400\": 8, \"1449964800\": 4, \"1450051200\": 3, \"1450137600\": 4, \"1450224000\": 0, \"1450310400\": 8, \"1450396800\": 7, \"1450483200\": 6, \"1450569600\": 6, \"1450656000\": 3, \"1450742400\": 10, \"1450828800\": 5, \"1450915200\": 10, \"1451001600\": 8, \"1451088000\": 9, \"1451174400\": 3, \"1451260800\": 7, \"1451347200\": 6, \"1451433600\": 0, \"1451520000\": 7, \"1451606400\": 6, \"1451692800\": 4, \"1451779200\": 3, \"1451865600\": 5, \"1451952000\": 9, \"1452038400\": 3, \"1452124800\": 2, \"1452211200\": 0, \"1452297600\": 10, \"1452384000\": 9, \"1452470400\": 6, \"1452556800\": 2, \"1452643200\": 4, \"1452729600\": 5, \"1452816000\": 9, \"1452902400\": 4, \"1452988800\": 8, \"1453075200\": 2}'"
       ]
      }
     ],
     "prompt_number": 53
    },
    {
     "cell_type": "code",
     "collapsed": false,
     "input": [],
     "language": "python",
     "metadata": {},
     "outputs": []
    }
   ],
   "metadata": {}
  }
 ]
}